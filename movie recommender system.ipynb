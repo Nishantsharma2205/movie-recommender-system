{
 "cells": [
  {
   "cell_type": "code",
   "execution_count": 3,
   "id": "61d2d2c9-6bb5-451b-998f-93bc5b8c0273",
   "metadata": {},
   "outputs": [
    {
     "name": "stdout",
     "output_type": "stream",
     "text": [
      "\n",
      "🎥 Because you liked *Inception*, you might also enjoy:\n",
      "1. The Matrix\n",
      "2. John Wick\n",
      "3. Avengers: Endgame\n",
      "4. The Dark Knight\n",
      "5. Interstellar\n"
     ]
    }
   ],
   "source": [
    "import pandas as pd\n",
    "from sklearn.feature_extraction.text import TfidfVectorizer\n",
    "from sklearn.metrics.pairwise import cosine_similarity\n",
    "\n",
    "# Step 1: Sample dataset of movies and their descriptions\n",
    "movies = {\n",
    "    'title': [\n",
    "        'The Matrix', 'John Wick', 'Avengers: Endgame', 'The Dark Knight', 'Inception',\n",
    "        'Interstellar', 'Gladiator', 'The Godfather', 'The Shawshank Redemption', 'Fight Club'\n",
    "    ],\n",
    "    'description': [\n",
    "        'A computer hacker learns about the true nature of his reality and his role in the war against its controllers.',\n",
    "        'An ex-hitman comes out of retirement to track down the gangsters that killed his dog.',\n",
    "        'Superheroes unite to battle the powerful Thanos and save the universe.',\n",
    "        'Batman sets out to dismantle the remaining criminal organizations that plague Gotham.',\n",
    "        'A thief who steals corporate secrets through use of dream-sharing technology.',\n",
    "        'A team travels through a wormhole in space in an attempt to ensure humanity’s survival.',\n",
    "        'A former Roman general sets out to exact vengeance against the corrupt emperor.',\n",
    "        'The aging patriarch of an organized crime dynasty transfers control of his empire to his son.',\n",
    "        'Two imprisoned men bond over a number of years, finding solace and redemption.',\n",
    "        'An insomniac office worker and a soap maker form an underground fight club.'\n",
    "    ]\n",
    "}\n",
    "\n",
    "# Step 2: Load data into a DataFrame\n",
    "df = pd.DataFrame(movies)\n",
    "\n",
    "# Step 3: Convert the descriptions into vectors using TF-IDF\n",
    "vectorizer = TfidfVectorizer(stop_words='english')\n",
    "tfidf_matrix = vectorizer.fit_transform(df['description'])\n",
    "\n",
    "# Step 4: Calculate the similarity between movies\n",
    "cosine_sim = cosine_similarity(tfidf_matrix, tfidf_matrix)\n",
    "\n",
    "# Step 5: Map movie titles to DataFrame indices\n",
    "title_to_index = pd.Series(df.index, index=df['title'])\n",
    "\n",
    "# Step 6: Recommendation function\n",
    "def recommend_movie(title, sim_matrix=cosine_sim):\n",
    "    if title not in title_to_index:\n",
    "        return \"Oops! Movie not found. Please check the title and try again.\"\n",
    "\n",
    "    idx = title_to_index[title]\n",
    "    similarity_scores = list(enumerate(sim_matrix[idx]))\n",
    "    similarity_scores = sorted(similarity_scores, key=lambda x: x[1], reverse=True)\n",
    "    similarity_scores = similarity_scores[1:6]  # Top 5 excluding the same movie\n",
    "\n",
    "    recommended_indices = [i[0] for i in similarity_scores]\n",
    "    return df['title'].iloc[recommended_indices].tolist()\n",
    "\n",
    "# Example usage\n",
    "user_input = \"Inception\"\n",
    "recommendations = recommend_movie(user_input)\n",
    "\n",
    "print(f\"\\n🎥 Because you liked *{user_input}*, you might also enjoy:\")\n",
    "for i, movie in enumerate(recommendations, 1):\n",
    "    print(f\"{i}. {movie}\")\n"
   ]
  },
  {
   "cell_type": "code",
   "execution_count": null,
   "id": "6f586103-b73d-43c2-9fe7-40c52118b30b",
   "metadata": {},
   "outputs": [],
   "source": []
  }
 ],
 "metadata": {
  "kernelspec": {
   "display_name": "Python 3 (ipykernel)",
   "language": "python",
   "name": "python3"
  },
  "language_info": {
   "codemirror_mode": {
    "name": "ipython",
    "version": 3
   },
   "file_extension": ".py",
   "mimetype": "text/x-python",
   "name": "python",
   "nbconvert_exporter": "python",
   "pygments_lexer": "ipython3",
   "version": "3.12.7"
  }
 },
 "nbformat": 4,
 "nbformat_minor": 5
}
